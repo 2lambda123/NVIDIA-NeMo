{
 "cells": [
  {
   "cell_type": "code",
   "execution_count": 5,
   "id": "d48e266f",
   "metadata": {
    "scrolled": false
   },
   "outputs": [
    {
     "data": {
      "application/vnd.jupyter.widget-view+json": {
       "model_id": "242aa92649214e97874c33145b278247",
       "version_major": 2,
       "version_minor": 0
      },
      "text/plain": [
       "Textarea(value='', disabled=True, layout=Layout(height='750px', width='90%'))"
      ]
     },
     "metadata": {},
     "output_type": "display_data"
    }
   ],
   "source": [
    "import ipywidgets\n",
    "import time\n",
    "box_layout = ipywidgets.Layout(height=\"750px\", width=\"90%\")\n",
    "widget = ipywidgets.Textarea(value='', disabled=True, layout=box_layout)\n",
    "display(widget)  # display widget\n",
    "\n"
   ]
  },
  {
   "cell_type": "code",
   "execution_count": 6,
   "id": "4327d27d",
   "metadata": {
    "scrolled": true
   },
   "outputs": [
    {
     "ename": "KeyboardInterrupt",
     "evalue": "",
     "output_type": "error",
     "traceback": [
      "\u001b[0;31m---------------------------------------------------------------------------\u001b[0m",
      "\u001b[0;31mKeyboardInterrupt\u001b[0m                         Traceback (most recent call last)",
      "Cell \u001b[0;32mIn[6], line 9\u001b[0m\n\u001b[1;32m      7\u001b[0m fp \u001b[38;5;241m=\u001b[39m \u001b[38;5;28mopen\u001b[39m(\u001b[38;5;124mf\u001b[39m\u001b[38;5;124m'\u001b[39m\u001b[38;5;132;01m{\u001b[39;00mOUTPUT_DIR\u001b[38;5;132;01m}\u001b[39;00m\u001b[38;5;124m/print_script.sh\u001b[39m\u001b[38;5;124m'\u001b[39m,\u001b[38;5;124m'\u001b[39m\u001b[38;5;124mr\u001b[39m\u001b[38;5;124m'\u001b[39m)\u001b[38;5;241m.\u001b[39mread()\n\u001b[1;32m      8\u001b[0m widget\u001b[38;5;241m.\u001b[39mvalue \u001b[38;5;241m=\u001b[39m fp\n\u001b[0;32m----> 9\u001b[0m \u001b[43mtime\u001b[49m\u001b[38;5;241;43m.\u001b[39;49m\u001b[43msleep\u001b[49m\u001b[43m(\u001b[49m\u001b[38;5;241;43m0.01\u001b[39;49m\u001b[43m)\u001b[49m\n",
      "\u001b[0;31mKeyboardInterrupt\u001b[0m: "
     ]
    }
   ],
   "source": [
    "# run some code, update widget value\n",
    "OUTPUT_DIR=\"/home/taejinp/projects/run_time/streaming_diar_output_univ\"\n",
    "\n",
    "for k in range(100000000):\n",
    "  widget.value += f\" update {k}\"\n",
    "#   widget.observe(get_bigger, 'value')\n",
    "  fp = open(f'{OUTPUT_DIR}/print_script.sh','r').read()\n",
    "  widget.value = fp\n",
    "  time.sleep(0.01)"
   ]
  },
  {
   "cell_type": "code",
   "execution_count": null,
   "id": "6a5d6996",
   "metadata": {},
   "outputs": [],
   "source": [
    "%%html\n",
    "<style>\n",
    ".output_wrapper .output {\n",
    "  overflow-y: visible;\n",
    "  height: fit-content;\n",
    "}\n",
    "</style>"
   ]
  },
  {
   "cell_type": "code",
   "execution_count": null,
   "id": "997a8e4a",
   "metadata": {
    "scrolled": true
   },
   "outputs": [],
   "source": [
    "# from random import uniform\n",
    "# import time\n",
    "# import os\n",
    "# from IPython.display import display, clear_output\n",
    "# OUTPUT_DIR=\"/home/taejinp/projects/run_time/streaming_diar_output_univ\"\n",
    "# i=0\n",
    "# while True:\n",
    "#     clear_output(wait=True)\n",
    "#     fp = open(f'{OUTPUT_DIR}/print_script.sh','r').read()\n",
    "#     print(str(i)+'\\n'+fp)\n",
    "#     time.sleep(0.2)\n",
    "#     i += 1"
   ]
  },
  {
   "cell_type": "code",
   "execution_count": null,
   "id": "6a47e06a",
   "metadata": {},
   "outputs": [],
   "source": []
  }
 ],
 "metadata": {
  "kernelspec": {
   "display_name": "Python 3 (ipykernel)",
   "language": "python",
   "name": "python3"
  },
  "language_info": {
   "codemirror_mode": {
    "name": "ipython",
    "version": 3
   },
   "file_extension": ".py",
   "mimetype": "text/x-python",
   "name": "python",
   "nbconvert_exporter": "python",
   "pygments_lexer": "ipython3",
   "version": "3.9.13"
  }
 },
 "nbformat": 4,
 "nbformat_minor": 5
}
