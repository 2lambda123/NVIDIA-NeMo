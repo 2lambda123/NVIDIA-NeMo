{
 "cells": [
  {
   "cell_type": "code",
   "execution_count": 3,
   "id": "6a5d6996",
   "metadata": {},
   "outputs": [
    {
     "data": {
      "text/html": [
       "<style>\n",
       ".output_wrapper .output {\n",
       "  overflow-y: visible;\n",
       "  height: fit-content;\n",
       "}\n",
       "</style>\n"
      ],
      "text/plain": [
       "<IPython.core.display.HTML object>"
      ]
     },
     "metadata": {},
     "output_type": "display_data"
    }
   ],
   "source": [
    "%%html\n",
    "<style>\n",
    ".output_wrapper .output {\n",
    "  overflow-y: visible;\n",
    "  height: fit-content;\n",
    "}\n",
    "</style>"
   ]
  },
  {
   "cell_type": "code",
   "execution_count": 4,
   "id": "997a8e4a",
   "metadata": {
    "scrolled": true
   },
   "outputs": [
    {
     "name": "stdout",
     "output_type": "stream",
     "text": [
      "59\n",
      "\u001b[1;30m[00:00.92 - 00:04.20] speaker_0: I already got another apartment for when I moved out.\n",
      "\u001b[1;34m[00:04.72 - 00:06.08] speaker_1: Oh you did. Yeah where?\n",
      "\u001b[1;30m[00:07.00 - 00:18.32] speaker_0: On the corner of Columbia and Kal and it's a one bedroom and so I had to put down like a deposit and you know and pay the rent for it so I could hold it.\n",
      "\u001b[1;34m[00:19.40 - 00:19.44] speaker_1: But?\n",
      "\u001b[1;30m[00:19.76 - 00:20.04] speaker_0: That's okay.\n",
      "\u001b[1;34m[00:20.84 - 00:21.08] speaker_1: Oh good.\n",
      "\u001b[1;30m[00:21.76 - 00:25.32] speaker_0: Then I won't have to. Need how all the people are looking for houses now?\n",
      "\u001b[1;34m[00:25.80 - 00:25.84] speaker_1: Yeah.\n",
      "\u001b[1;30m[00:27.92 - 00:27.96] speaker_0: Yeah.\n",
      "\u001b[1;34m[00:28.08 - 00:34.64] speaker_1: I'm sure they are. Well. That's good. Well so What have you been doing other than work? Um?\n",
      "\u001b[1;30m[00:36.08 - 00:47.80] speaker_0: Not really much of anything Um I usually. I just come home from work and like stay home and I don't know we haven't done much. We went yesterday.\n",
      "\u001b[1;34m[00:48.44 - 00:49.04] speaker_1: Oh Yeah Yeah.\n",
      "\u001b[1;30m[00:49.32 - 00:49.88] speaker_0: Me and Henry.\n",
      "\u001b[1;34m[00:51.08 - 00:51.48] speaker_1: That's cool.\n",
      "\u001b[1;30m[00:52.24 - 00:54.96] speaker_0: Yeah but otherwise it's been kind of boring somemmer.\n",
      "\u001b[1;34m[00:55.56 - 00:55.60] speaker_1: Mhm.\n",
      "\u001b[1;30m[00:56.32 - 00:58.80] speaker_0: Like nobody's here just like Henry and my wife.\n",
      "\u001b[1;34m[00:59.24 - 01:06.24] speaker_1: Yeah it's been boring for me too. But least I'm saving money. I guess.\n",
      "\u001b[1;30m[01:07.04 - 01:07.76] speaker_0: When are you coming back?\n",
      "\u001b[1;34m[01:08.32 - 01:09.36] speaker_1: The nineteenth? Oh.\n",
      "\u001b[1;30m[01:10.04 - 01:10.76] speaker_0: When does school start?\n",
      "\u001b[1;34m[01:11.24 - 01:12.00] speaker_1: The twenty seconds?\n",
      "\u001b[1;30m[01:12.32 - 01:16.12] speaker_0: Oh okay I don't even know. I just knew it was around the twenties.\n",
      "\u001b[1;34m[01:16.96 - 01:22.56] speaker_1: Yeah I think it's the twenty second but Yeah.\n",
      "\u001b[1;30m[01:23.68 - 01:24.48] speaker_0: Have you talked to late?\n",
      "\u001b[1;34m[01:26.40 - 01:32.24] speaker_1: Yes I haven't talked to him since I think like Tuesday but he's coming back to Albuquerque tomorrow.\n",
      "\u001b[1;30m[01:32.68 - 01:35.88] speaker_0: Oh is yeah I thought he was going to Philadelphia. No.\n",
      "\n"
     ]
    },
    {
     "ename": "KeyboardInterrupt",
     "evalue": "",
     "output_type": "error",
     "traceback": [
      "\u001b[0;31m---------------------------------------------------------------------------\u001b[0m",
      "\u001b[0;31mKeyboardInterrupt\u001b[0m                         Traceback (most recent call last)",
      "\u001b[0;32m<ipython-input-4-6dc624af37d6>\u001b[0m in \u001b[0;36m<module>\u001b[0;34m\u001b[0m\n\u001b[1;32m      9\u001b[0m     \u001b[0mfp\u001b[0m \u001b[0;34m=\u001b[0m \u001b[0mopen\u001b[0m\u001b[0;34m(\u001b[0m\u001b[0;34mf'{OUTPUT_DIR}/print_script.sh'\u001b[0m\u001b[0;34m,\u001b[0m\u001b[0;34m'r'\u001b[0m\u001b[0;34m)\u001b[0m\u001b[0;34m.\u001b[0m\u001b[0mread\u001b[0m\u001b[0;34m(\u001b[0m\u001b[0;34m)\u001b[0m\u001b[0;34m\u001b[0m\u001b[0;34m\u001b[0m\u001b[0m\n\u001b[1;32m     10\u001b[0m     \u001b[0mprint\u001b[0m\u001b[0;34m(\u001b[0m\u001b[0mstr\u001b[0m\u001b[0;34m(\u001b[0m\u001b[0mi\u001b[0m\u001b[0;34m)\u001b[0m\u001b[0;34m+\u001b[0m\u001b[0;34m'\\n'\u001b[0m\u001b[0;34m+\u001b[0m\u001b[0mfp\u001b[0m\u001b[0;34m)\u001b[0m\u001b[0;34m\u001b[0m\u001b[0;34m\u001b[0m\u001b[0m\n\u001b[0;32m---> 11\u001b[0;31m     \u001b[0mtime\u001b[0m\u001b[0;34m.\u001b[0m\u001b[0msleep\u001b[0m\u001b[0;34m(\u001b[0m\u001b[0;36m0.2\u001b[0m\u001b[0;34m)\u001b[0m\u001b[0;34m\u001b[0m\u001b[0;34m\u001b[0m\u001b[0m\n\u001b[0m\u001b[1;32m     12\u001b[0m     \u001b[0mi\u001b[0m \u001b[0;34m+=\u001b[0m \u001b[0;36m1\u001b[0m\u001b[0;34m\u001b[0m\u001b[0;34m\u001b[0m\u001b[0m\n",
      "\u001b[0;31mKeyboardInterrupt\u001b[0m: "
     ]
    }
   ],
   "source": [
    "from random import uniform\n",
    "import time\n",
    "import os\n",
    "from IPython.display import display, clear_output\n",
    "OUTPUT_DIR=\"./streaming_diar_output\"\n",
    "i=0\n",
    "while True:\n",
    "    clear_output(wait=True)\n",
    "    fp = open(f'{OUTPUT_DIR}/print_script.sh','r').read()\n",
    "    print(str(i)+'\\n'+fp)\n",
    "    time.sleep(0.2)\n",
    "    i += 1"
   ]
  },
  {
   "cell_type": "code",
   "execution_count": null,
   "id": "6a47e06a",
   "metadata": {},
   "outputs": [],
   "source": []
  }
 ],
 "metadata": {
  "kernelspec": {
   "display_name": "Python 3",
   "language": "python",
   "name": "python3"
  },
  "language_info": {
   "codemirror_mode": {
    "name": "ipython",
    "version": 3
   },
   "file_extension": ".py",
   "mimetype": "text/x-python",
   "name": "python",
   "nbconvert_exporter": "python",
   "pygments_lexer": "ipython3",
   "version": "3.8.8"
  }
 },
 "nbformat": 4,
 "nbformat_minor": 5
}
